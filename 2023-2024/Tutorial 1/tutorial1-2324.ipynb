{
 "cells": [
  {
   "cell_type": "markdown",
   "metadata": {
    "id": "rduSZj7b5eiP",
    "slideshow": {
     "slide_type": "slide"
    }
   },
   "source": [
    "# Tutorial 1\n",
    "\n",
    "**Credits**: Andrea Galassi, Federico Ruggeri, Eleonora Mancini, Paolo Torroni\n",
    "\n",
    "**Keywords**: Data loading, Feature Extraction, Machine Learning, Text Classification, Sentiment Analysis"
   ]
  },
  {
   "cell_type": "markdown",
   "metadata": {
    "id": "m3wzWLL-LiKd",
    "slideshow": {
     "slide_type": "slide"
    }
   },
   "source": [
    "# Contact\n",
    "\n",
    "For any doubt, question, issue or help, you can always contact us at the following email addresses:\n",
    "\n",
    "Teaching Assistants:\n",
    "\n",
    "* Federico Ruggeri -> federico.ruggeri6@unibo.it\n",
    "* Eleonora Mancini -> e.mancini@unibo.it\n",
    "\n",
    "Professor:\n",
    "\n",
    "* Paolo Torroni -> p.torroni@unibo.it"
   ]
  },
  {
   "cell_type": "markdown",
   "metadata": {
    "slideshow": {
     "slide_type": "subslide"
    }
   },
   "source": [
    "## Important\n",
    "\n",
    "**Make sure** to put all of us in cc when contacting us via mail!"
   ]
  },
  {
   "cell_type": "markdown",
   "metadata": {
    "slideshow": {
     "slide_type": "slide"
    }
   },
   "source": [
    "## PART I ($\\sim$25 mins)\n",
    "\n",
    "*   How to **download** a dataset.\n",
    "*   How to **inspect** a dataset."
   ]
  },
  {
   "cell_type": "markdown",
   "metadata": {
    "slideshow": {
     "slide_type": "slide"
    }
   },
   "source": [
    "## PART II ($\\sim$25 mins)\n",
    "\n",
    "* How to perform basic **text pre-processing** to identify input features."
   ]
  },
  {
   "cell_type": "markdown",
   "metadata": {
    "slideshow": {
     "slide_type": "slide"
    }
   },
   "source": [
    "## PART III ($\\sim$25 mins)\n",
    "\n",
    "*   How to **train a classifier** on identified input features for sentiment classification.\n",
    "*   How to **evaluate** model performance and **inspect** its predictions."
   ]
  },
  {
   "cell_type": "markdown",
   "metadata": {
    "slideshow": {
     "slide_type": "slide"
    }
   },
   "source": [
    "## Task\n",
    "\n",
    "We consider the task of **document classification**.\n",
    "\n",
    "Specifically, we consider document **sentiment analysis** on movie reviews."
   ]
  },
  {
   "cell_type": "markdown",
   "metadata": {
    "id": "c4-E45fvrp3Z",
    "slideshow": {
     "slide_type": "slide"
    }
   },
   "source": [
    "## Preliminaries\n",
    "\n",
    "First of all, we need to import some useful packages that we will use during this hands-on session."
   ]
  },
  {
   "cell_type": "code",
   "execution_count": 1,
   "metadata": {
    "id": "of3D92OeWV8_",
    "slideshow": {
     "slide_type": "subslide"
    }
   },
   "outputs": [],
   "source": [
    "# file management\n",
    "import sys\n",
    "import shutil\n",
    "import urllib\n",
    "import tarfile\n",
    "from pathlib import Path\n",
    "\n",
    "# dataframe management\n",
    "import pandas as pd\n",
    "\n",
    "# data manipulation\n",
    "import numpy as np\n",
    "\n",
    "# for readability\n",
    "from typing import Iterable\n",
    "\n",
    "# viz\n",
    "from tqdm import tqdm"
   ]
  },
  {
   "cell_type": "code",
   "execution_count": 2,
   "metadata": {
    "slideshow": {
     "slide_type": "subslide"
    }
   },
   "outputs": [
    {
     "data": {
      "text/plain": [
       "{'width': 1024, 'height': 768, 'scroll': True}"
      ]
     },
     "execution_count": 2,
     "metadata": {},
     "output_type": "execute_result"
    }
   ],
   "source": [
    "from notebook.services.config import ConfigManager\n",
    "cm = ConfigManager()\n",
    "cm.update('livereveal', {\n",
    "        'width': 1024,\n",
    "        'height': 768,\n",
    "        'scroll': True,\n",
    "})"
   ]
  },
  {
   "cell_type": "markdown",
   "metadata": {
    "id": "ARCKuf1S5GKg",
    "slideshow": {
     "slide_type": "slide"
    }
   },
   "source": [
    "# 1. Downloading the dataset"
   ]
  },
  {
   "cell_type": "markdown",
   "metadata": {
    "id": "d--rS8W95i62",
    "slideshow": {
     "slide_type": "subslide"
    }
   },
   "source": [
    "We download the IMDB movie reviews dataset."
   ]
  },
  {
   "cell_type": "code",
   "execution_count": 3,
   "metadata": {
    "slideshow": {
     "slide_type": "subslide"
    }
   },
   "outputs": [],
   "source": [
    "class DownloadProgressBar(tqdm):\n",
    "    def update_to(self, b=1, bsize=1, tsize=None):\n",
    "        if tsize is not None:\n",
    "            self.total = tsize\n",
    "        self.update(b * bsize - self.n)\n",
    "        \n",
    "def download_url(download_path: Path, url: str):\n",
    "    with DownloadProgressBar(unit='B', unit_scale=True,\n",
    "                             miniters=1, desc=url.split('/')[-1]) as t:\n",
    "        urllib.request.urlretrieve(url, filename=download_path, reporthook=t.update_to)\n"
   ]
  },
  {
   "cell_type": "code",
   "execution_count": 4,
   "metadata": {
    "slideshow": {
     "slide_type": "subslide"
    }
   },
   "outputs": [],
   "source": [
    "def download_dataset(download_path: Path, url: str):\n",
    "    print(\"Downloading dataset...\")\n",
    "    download_url(url=url, download_path=download_path)\n",
    "    print(\"Download complete!\")\n",
    "\n",
    "def extract_dataset(download_path: Path, extract_path: Path):\n",
    "    print(\"Extracting dataset... (it may take a while...)\")\n",
    "    with tarfile.open(download_path) as loaded_tar:\n",
    "        loaded_tar.extractall(extract_path)\n",
    "    print(\"Extraction completed!\")"
   ]
  },
  {
   "cell_type": "code",
   "execution_count": 5,
   "metadata": {
    "id": "NSvqBcKJ7iTY",
    "scrolled": true,
    "slideshow": {
     "slide_type": "subslide"
    }
   },
   "outputs": [
    {
     "name": "stdout",
     "output_type": "stream",
     "text": [
      "Current work directory: /mnt/hdd/emancini/Repositories_Ele/nlp-course-material/2023-2024/Tutorial 1\n"
     ]
    }
   ],
   "source": [
    "url = \"http://ai.stanford.edu/~amaas/data/sentiment/aclImdb_v1.tar.gz\"\n",
    "dataset_name = \"aclImdb\"\n",
    "\n",
    "print(f\"Current work directory: {Path.cwd()}\")\n",
    "dataset_folder = Path.cwd().joinpath(\"Datasets\")\n"
   ]
  },
  {
   "cell_type": "code",
   "execution_count": 6,
   "metadata": {
    "slideshow": {
     "slide_type": "subslide"
    }
   },
   "outputs": [],
   "source": [
    "if not dataset_folder.exists():\n",
    "    dataset_folder.mkdir(parents=True)\n",
    "\n",
    "dataset_tar_path = dataset_folder.joinpath(\"Movies.tar.gz\")\n",
    "dataset_path = dataset_folder.joinpath(dataset_name)\n",
    "\n",
    "if not dataset_tar_path.exists():\n",
    "    download_dataset(dataset_tar_path, url)\n",
    "\n",
    "if not dataset_path.exists():\n",
    "    extract_dataset(dataset_tar_path, dataset_folder)"
   ]
  },
  {
   "cell_type": "markdown",
   "metadata": {
    "id": "I3f93BOW3ziB",
    "slideshow": {
     "slide_type": "subslide"
    }
   },
   "source": [
    "Let's have a look at the files we have downloaded to understand the dataset structure."
   ]
  },
  {
   "cell_type": "code",
   "execution_count": 7,
   "metadata": {
    "colab": {
     "base_uri": "https://localhost:8080/"
    },
    "id": "MlC6O8M1ITgp",
    "outputId": "a9ecbb13-5d51-4ac8-faf4-018b7c5a7df0",
    "slideshow": {
     "slide_type": "fragment"
    }
   },
   "outputs": [
    {
     "name": "stdout",
     "output_type": "stream",
     "text": [
      "Bromwell High is a cartoon comedy. It ran at the same time as some other programs about school life, such as \"Teachers\". My 35 years in the teaching profession lead me to believe that Bromwell High's satire is much closer to reality than is \"Teachers\". The scramble to survive financially, the insightful students who can see right through their pathetic teachers' pomp, the pettiness of the whole situation, all remind me of the schools I knew and their students. When I saw the episode in which a student repeatedly tried to burn down the school, I immediately recalled ......... at .......... High. A classic line: INSPECTOR: I'm here to sack one of your teachers. STUDENT: Welcome to Bromwell High. I expect that many adults of my age think that Bromwell High is far fetched. What a pity that it isn't!\n"
     ]
    }
   ],
   "source": [
    "# an example\n",
    "file_path = dataset_folder.joinpath(dataset_name, 'train', 'pos', \"0_9.txt\")\n",
    "\n",
    "if file_path.is_file():\n",
    "    # open the file\n",
    "    with file_path.open(mode='r', encoding='utf-8') as text_file:\n",
    "        text = text_file.read()\n",
    "        print(text)"
   ]
  },
  {
   "cell_type": "markdown",
   "metadata": {
    "id": "-FexYdgu87Q3",
    "slideshow": {
     "slide_type": "slide"
    }
   },
   "source": [
    "## 1.1 Encode the dataset into a pandas.DataFrame\n",
    "\n",
    "We encode the loaded dataset into a dataframe to better access to its content."
   ]
  },
  {
   "cell_type": "code",
   "execution_count": 8,
   "metadata": {
    "colab": {
     "base_uri": "https://localhost:8080/"
    },
    "id": "4u8aN92x9Aw1",
    "outputId": "06f7b1a8-d72c-4e17-f347-7cce3318b31d",
    "slideshow": {
     "slide_type": "subslide"
    }
   },
   "outputs": [],
   "source": [
    "dataframe_rows = []\n",
    "\n",
    "for split in ['train', 'test']:\n",
    "    for sentiment in ['pos', 'neg']:\n",
    "        folder = dataset_folder.joinpath(dataset_name, split, sentiment)\n",
    "        for file_path in folder.glob('*.txt'):            \n",
    "            with file_path.open(mode='r', encoding='utf-8') as text_file:\n",
    "                text = text_file.read()\n",
    "                score = file_path.stem.split(\"_\")[1]\n",
    "                score = int(score)\n",
    "                file_id = file_path.stem.split(\"_\")[0]\n",
    "\n",
    "                num_sentiment = 1 if sentiment == 'pos' else 0\n",
    "\n",
    "                dataframe_row = {\n",
    "                    \"file_id\": file_id,\n",
    "                    \"score\": score,\n",
    "                    \"sentiment\": num_sentiment,\n",
    "                    \"split\": split,\n",
    "                    \"text\": text\n",
    "                }\n",
    "\n",
    "                dataframe_rows.append(dataframe_row)"
   ]
  },
  {
   "cell_type": "code",
   "execution_count": 9,
   "metadata": {
    "slideshow": {
     "slide_type": "subslide"
    }
   },
   "outputs": [],
   "source": [
    "folder = Path.cwd().joinpath(\"Datasets\", \"Dataframes\", dataset_name)\n",
    "if not folder.exists():\n",
    "    folder.mkdir(parents=True)\n",
    "\n",
    "# transform the list of rows in a proper dataframe\n",
    "df = pd.DataFrame(dataframe_rows)\n",
    "df = df[[\"file_id\", \n",
    "         \"score\",\n",
    "         \"sentiment\",\n",
    "         \"split\",\n",
    "         \"text\"]\n",
    "       ]\n",
    "df_path = folder.with_name(dataset_name + \".pkl\")\n",
    "df.to_pickle(df_path)"
   ]
  },
  {
   "cell_type": "markdown",
   "metadata": {
    "id": "N90TSajWZD2Z",
    "slideshow": {
     "slide_type": "slide"
    }
   },
   "source": [
    "## 1.2 Inspecting the dataset\n",
    "\n",
    "We first have a look at the dataframe structure."
   ]
  },
  {
   "cell_type": "code",
   "execution_count": 10,
   "metadata": {
    "colab": {
     "base_uri": "https://localhost:8080/"
    },
    "id": "GCs9IEO5F-Vt",
    "outputId": "ba1a3f1f-b218-43d2-cf9a-6ed25fc59a49",
    "scrolled": true,
    "slideshow": {
     "slide_type": "subslide"
    }
   },
   "outputs": [
    {
     "name": "stdout",
     "output_type": "stream",
     "text": [
      "Dataframe structure:\n",
      "      file_id  score  sentiment  split  \\\n",
      "0        3859      8          1  train   \n",
      "1        1733      7          1  train   \n",
      "2       12084      8          1  train   \n",
      "3       11231     10          1  train   \n",
      "4        5094      8          1  train   \n",
      "...       ...    ...        ...    ...   \n",
      "49995     620      2          0   test   \n",
      "49996    3300      1          0   test   \n",
      "49997    5127      2          0   test   \n",
      "49998    5070      2          0   test   \n",
      "49999   11027      4          0   test   \n",
      "\n",
      "                                                    text  \n",
      "0      Paul Verhoeven's De Vierde Man (The Fourth Man...  \n",
      "1      Much underrated camp movie on the level of Cob...  \n",
      "2      A toothsome little potboiler whose 65-minute l...  \n",
      "3      I really like Star Trek Hidden Frontier it is ...  \n",
      "4      If you a purist, don't waste your time - other...  \n",
      "...                                                  ...  \n",
      "49995  I couldn't. I was bored, not just because the ...  \n",
      "49996  There are shows and films I've seen and subseq...  \n",
      "49997  Flashdance is one of those awful, stupid movie...  \n",
      "49998  Another example of the women-in-prison genre. ...  \n",
      "49999  Carole Lombard and James Stewart gamely try to...  \n",
      "\n",
      "[50000 rows x 5 columns]\n",
      "\n",
      "Total rows 50000\n",
      "\n"
     ]
    }
   ],
   "source": [
    "print(\"Dataframe structure:\")\n",
    "print(df)\n",
    "print()\n",
    "\n",
    "print(\"Total rows %d\" % (len(df)))\n",
    "print()"
   ]
  },
  {
   "cell_type": "code",
   "execution_count": 11,
   "metadata": {
    "colab": {
     "base_uri": "https://localhost:8080/"
    },
    "id": "dEgevug_MxjR",
    "outputId": "16cbde26-7758-4347-f073-89a84ab505ac",
    "slideshow": {
     "slide_type": "subslide"
    }
   },
   "outputs": [
    {
     "name": "stdout",
     "output_type": "stream",
     "text": [
      "Distribution of scores: \n",
      "score\n",
      "1     10122\n",
      "10     9731\n",
      "8      5859\n",
      "4      5331\n",
      "3      4961\n",
      "7      4803\n",
      "9      4607\n",
      "2      4586\n",
      "Name: count, dtype: int64\n",
      "\n",
      "Distribution of sentiment: \n",
      "sentiment\n",
      "1    25000\n",
      "0    25000\n",
      "Name: count, dtype: int64\n",
      "\n",
      "Distribution of splits: \n",
      "split\n",
      "train    25000\n",
      "test     25000\n",
      "Name: count, dtype: int64\n",
      "\n"
     ]
    }
   ],
   "source": [
    "print(\"Distribution of scores: \")\n",
    "print(df['score'].value_counts())\n",
    "print()\n",
    "\n",
    "print(\"Distribution of sentiment: \")\n",
    "print(df['sentiment'].value_counts())\n",
    "print()\n",
    "\n",
    "print(\"Distribution of splits: \")\n",
    "print(df['split'].value_counts())\n",
    "print()"
   ]
  },
  {
   "cell_type": "code",
   "execution_count": 12,
   "metadata": {
    "colab": {
     "base_uri": "https://localhost:8080/"
    },
    "id": "dZQddWKfMzBr",
    "outputId": "884e5520-382b-4277-dcd8-a5c459678966",
    "scrolled": true,
    "slideshow": {
     "slide_type": "subslide"
    }
   },
   "outputs": [
    {
     "name": "stdout",
     "output_type": "stream",
     "text": [
      "Distribution of sentiments in split: \n",
      "split  sentiment\n",
      "test   0            12500\n",
      "       1            12500\n",
      "train  0            12500\n",
      "       1            12500\n",
      "dtype: int64\n",
      "\n",
      "Distribution of scores in split: \n",
      "split  score\n",
      "test   1        5022\n",
      "       2        2302\n",
      "       3        2541\n",
      "       4        2635\n",
      "       7        2307\n",
      "       8        2850\n",
      "       9        2344\n",
      "       10       4999\n",
      "train  1        5100\n",
      "       2        2284\n",
      "       3        2420\n",
      "       4        2696\n",
      "       7        2496\n",
      "       8        3009\n",
      "       9        2263\n",
      "       10       4732\n",
      "dtype: int64\n",
      "\n",
      "Differences in score distribution in split: \n",
      "score  split\n",
      "1      test     5022\n",
      "       train    5100\n",
      "2      test     2302\n",
      "       train    2284\n",
      "3      test     2541\n",
      "       train    2420\n",
      "4      test     2635\n",
      "       train    2696\n",
      "7      test     2307\n",
      "       train    2496\n",
      "8      test     2850\n",
      "       train    3009\n",
      "9      test     2344\n",
      "       train    2263\n",
      "10     test     4999\n",
      "       train    4732\n",
      "dtype: int64\n",
      "\n"
     ]
    }
   ],
   "source": [
    "print(\"Distribution of sentiments in split: \")\n",
    "print(df.groupby(['split','sentiment']).size())\n",
    "print()\n",
    "\n",
    "print(\"Distribution of scores in split: \")\n",
    "print(df.groupby(['split','score']).size())\n",
    "print()\n",
    "\n",
    "print(\"Differences in score distribution in split: \")\n",
    "print(df.groupby(['score','split',]).size())\n",
    "print()"
   ]
  },
  {
   "cell_type": "code",
   "execution_count": 13,
   "metadata": {
    "colab": {
     "base_uri": "https://localhost:8080/"
    },
    "id": "Peg97aWQM0EC",
    "outputId": "98b5bb2d-cd93-45a5-9f0b-afbfcc3a5d06",
    "slideshow": {
     "slide_type": "subslide"
    }
   },
   "outputs": [
    {
     "name": "stdout",
     "output_type": "stream",
     "text": [
      "Differences among score classes in the splits: \n",
      "sentiment  score  split\n",
      "0          1      test     5022\n",
      "                  train    5100\n",
      "           2      test     2302\n",
      "                  train    2284\n",
      "           3      test     2541\n",
      "                  train    2420\n",
      "           4      test     2635\n",
      "                  train    2696\n",
      "1          7      test     2307\n",
      "                  train    2496\n",
      "           8      test     2850\n",
      "                  train    3009\n",
      "           9      test     2344\n",
      "                  train    2263\n",
      "           10     test     4999\n",
      "                  train    4732\n",
      "dtype: int64\n",
      "\n"
     ]
    }
   ],
   "source": [
    "print(\"Differences among score classes in the splits: \")\n",
    "print(df.groupby(['sentiment','score','split']).size())\n",
    "print()"
   ]
  },
  {
   "cell_type": "markdown",
   "metadata": {
    "id": "XBglaYxGN9oz",
    "slideshow": {
     "slide_type": "slide"
    }
   },
   "source": [
    "### 1.2.1 Visualization"
   ]
  },
  {
   "cell_type": "code",
   "execution_count": 14,
   "metadata": {
    "slideshow": {
     "slide_type": "fragment"
    }
   },
   "outputs": [],
   "source": [
    "# Preliminaries\n",
    "import matplotlib.pyplot as plt"
   ]
  },
  {
   "cell_type": "markdown",
   "metadata": {
    "slideshow": {
     "slide_type": "subslide"
    }
   },
   "source": [
    "We first visualize sentiment class distribution."
   ]
  },
  {
   "cell_type": "code",
   "execution_count": 15,
   "metadata": {
    "slideshow": {
     "slide_type": "subslide"
    }
   },
   "outputs": [
    {
     "data": {
      "image/png": "[encoded data removed]",
      "text/plain": [
       "<Figure size 640x480 with 1 Axes>"
      ]
     },
     "metadata": {},
     "output_type": "display_data"
    }
   ],
   "source": [
    "train_labels = df[df.split == 'train'].sentiment.values\n",
    "test_labels = df[df.split == 'test'].sentiment.values\n",
    "\n",
    "plt.hist([train_labels,test_labels], bins=2, label=['train','test'], color=[\"red\", \"blue\"], align=\"mid\")\n",
    "plt.legend(loc='upper center')\n",
    "plt.title('Class distribution')\n",
    "plt.xlabel('Sentiment')\n",
    "plt.ylabel('# Samples')\n",
    "plt.show()"
   ]
  },
  {
   "cell_type": "markdown",
   "metadata": {
    "slideshow": {
     "slide_type": "subslide"
    }
   },
   "source": [
    "Then we visualize sentiment scores."
   ]
  },
  {
   "cell_type": "code",
   "execution_count": 16,
   "metadata": {
    "colab": {
     "base_uri": "https://localhost:8080/",
     "height": 265
    },
    "id": "UMy0YgDBN8rl",
    "outputId": "713b68d0-2387-4423-bb5f-98a645b82eee",
    "slideshow": {
     "slide_type": "subslide"
    }
   },
   "outputs": [
    {
     "data": {
      "image/png": "[encoded data removed]",
      "text/plain": [
       "<Figure size 640x480 with 1 Axes>"
      ]
     },
     "metadata": {},
     "output_type": "display_data"
    }
   ],
   "source": [
    "train_scores = df[df.split == 'train'].score.values\n",
    "test_scores = df[df.split == 'test'].score.values\n",
    "\n",
    "plt.xticks(range(1,11))\n",
    "plt.hist([train_scores,test_scores], bins=10, label=['train','test'], color=[\"red\", \"blue\"], align=\"mid\")\n",
    "plt.legend(loc='upper center')\n",
    "plt.title('Score distribution')\n",
    "plt.xlabel('Score')\n",
    "plt.ylabel('# Samples')\n",
    "\n",
    "plt.show()"
   ]
  },
  {
   "cell_type": "code",
   "execution_count": 17,
   "metadata": {
    "colab": {
     "base_uri": "https://localhost:8080/",
     "height": 545
    },
    "id": "gsniJ_VdV-A-",
    "outputId": "32e3116e-37df-40bd-c67e-03202233c3c4",
    "slideshow": {
     "slide_type": "subslide"
    }
   },
   "outputs": [
    {
     "data": {
      "image/png": "[encoded data removed]",
      "text/plain": [
       "<Figure size 640x480 with 1 Axes>"
      ]
     },
     "metadata": {},
     "output_type": "display_data"
    },
    {
     "data": {
      "image/png": "[encoded data removed]",
      "text/plain": [
       "<Figure size 640x480 with 1 Axes>"
      ]
     },
     "metadata": {},
     "output_type": "display_data"
    }
   ],
   "source": [
    "plot1 = plt.figure(1)\n",
    "plt.hist(train_scores, 10, color=\"red\")\n",
    "plt.xlabel('Score')\n",
    "plt.ylabel('# Samples')\n",
    "plt.title(\"Train\")\n",
    "\n",
    "plot2 = plt.figure(2)\n",
    "plt.hist(test_scores, 10, color=\"blue\")\n",
    "plt.xlabel('Score')\n",
    "plt.ylabel('# Samples')\n",
    "plt.title(\"Test\")\n",
    "\n",
    "plt.show()"
   ]
  },
  {
   "cell_type": "markdown",
   "metadata": {
    "slideshow": {
     "slide_type": "subslide"
    }
   },
   "source": [
    "Lastly, we check text length distribution."
   ]
  },
  {
   "cell_type": "code",
   "execution_count": 18,
   "metadata": {
    "slideshow": {
     "slide_type": "fragment"
    }
   },
   "outputs": [
    {
     "name": "stderr",
     "output_type": "stream",
     "text": [
      "[nltk_data] Downloading package punkt_tab to\n",
      "[nltk_data]     /home/emancini/nltk_data...\n",
      "[nltk_data]   Package punkt_tab is already up-to-date!\n",
      "[nltk_data] Downloading package punkt to /home/emancini/nltk_data...\n",
      "[nltk_data]   Package punkt is already up-to-date!\n",
      "100%|██████████████████████████████████████████████████████████████████████████████████████████████████████████████████████████████████████████████████████████████| 25000/25000 [00:24<00:00, 1040.70it/s]\n",
      "100%|██████████████████████████████████████████████████████████████████████████████████████████████████████████████████████████████████████████████████████████████| 25000/25000 [00:23<00:00, 1062.79it/s]\n"
     ]
    }
   ],
   "source": [
    "import nltk\n",
    "from nltk.tokenize import word_tokenize\n",
    "\n",
    "# necessary for being able to tokenize\n",
    "nltk.download('punkt_tab')\n",
    "nltk.download('punkt')\n",
    "\n",
    "train_texts = df[df.split == 'train'].text.values\n",
    "test_texts = df[df.split == 'test'].text.values\n",
    "\n",
    "train_lengths = [len(word_tokenize(text)) for text in tqdm(train_texts)]\n",
    "test_lengths = [len(word_tokenize(text)) for text in tqdm(test_texts)]"
   ]
  },
  {
   "cell_type": "code",
   "execution_count": 19,
   "metadata": {
    "slideshow": {
     "slide_type": "subslide"
    }
   },
   "outputs": [
    {
     "data": {
      "image/png": "[encoded data removed]",
      "text/plain": [
       "<Figure size 640x480 with 1 Axes>"
      ]
     },
     "metadata": {},
     "output_type": "display_data"
    },
    {
     "data": {
      "image/png": "[encoded data removed]",
      "text/plain": [
       "<Figure size 640x480 with 1 Axes>"
      ]
     },
     "metadata": {},
     "output_type": "display_data"
    }
   ],
   "source": [
    "plot1 = plt.figure(1)\n",
    "plt.hist(train_lengths, color=\"red\")\n",
    "plt.xlabel('Word count')\n",
    "plt.ylabel('# Samples')\n",
    "plt.title(\"Train\")\n",
    "\n",
    "plot2 = plt.figure(2)\n",
    "plt.hist(test_lengths, 10, color=\"blue\")\n",
    "plt.xlabel('Word count')\n",
    "plt.ylabel('# Samples')\n",
    "plt.title(\"Test\")\n",
    "\n",
    "plt.show()"
   ]
  },
  {
   "cell_type": "markdown",
   "metadata": {
    "id": "-sMYZFEwLHBu",
    "slideshow": {
     "slide_type": "slide"
    }
   },
   "source": [
    "## 2. Feature Extraction\n",
    "\n",
    "We are now ready to address the sentiment analysis task.\n",
    "\n",
    "We consider the sentiment classification task for description purposes."
   ]
  },
  {
   "cell_type": "markdown",
   "metadata": {
    "slideshow": {
     "slide_type": "fragment"
    }
   },
   "source": [
    "We first **determine** the inputs and outputs of our classifier.\n",
    "\n",
    "Then, we define **how to encode** the inputs and outputs for the classifier."
   ]
  },
  {
   "cell_type": "markdown",
   "metadata": {
    "slideshow": {
     "slide_type": "subslide"
    }
   },
   "source": [
    "### Inputs and Outputs\n",
    "\n",
    "<center>\n",
    "    <img src=\"images/inputs_outputs.png\" alt=\"inputs and outputs\" />\n",
    "</center>"
   ]
  },
  {
   "cell_type": "markdown",
   "metadata": {
    "slideshow": {
     "slide_type": "subslide"
    }
   },
   "source": [
    "### Input features and Outputs\n",
    "\n",
    "We will encode input text into a numerical format: **bag-of-words**.\n",
    "\n",
    "<center>\n",
    "    <img src=\"images/inputs_outputs_features.png\" alt=\"features and outputs\" />\n",
    "</center>"
   ]
  },
  {
   "cell_type": "markdown",
   "metadata": {
    "slideshow": {
     "slide_type": "subslide"
    }
   },
   "source": [
    "Sentiment score prediction has the same schema where the *output label* is replaced by the sentiment score."
   ]
  },
  {
   "cell_type": "markdown",
   "metadata": {
    "id": "APy7Yb83H5Is",
    "slideshow": {
     "slide_type": "slide"
    }
   },
   "source": [
    "### 2.1 Bag-of-Words Encoding\n",
    "\n",
    "The [scikit-learn](https://scikit-learn.org/stable/) library offers *TfidfVectorizer*, a class that performs both tokenization and the creation of the Bag-of-Words (BoW) representation of a corpus.\n",
    "\n",
    "In particular, it computes tf-idf representation for each word token."
   ]
  },
  {
   "cell_type": "markdown",
   "metadata": {
    "slideshow": {
     "slide_type": "fragment"
    }
   },
   "source": [
    "#### Homework 📖\n",
    "\n",
    "The class has plenty of options: it can be used also to count n-grams, excluding stop-words, and cutting off most and/or less frequent terms."
   ]
  },
  {
   "cell_type": "code",
   "execution_count": 21,
   "metadata": {
    "colab": {
     "base_uri": "https://localhost:8080/"
    },
    "id": "ZsuUwTjqH72Q",
    "outputId": "95233a15-6daa-4f64-b0bd-9958861efad1",
    "slideshow": {
     "slide_type": "subslide"
    }
   },
   "outputs": [
    {
     "name": "stdout",
     "output_type": "stream",
     "text": [
      "Processing corpus\n",
      "\n",
      "Shape of the matrix: (data points, features)\n",
      "(25000, 74849)\n",
      "\n"
     ]
    }
   ],
   "source": [
    "from sklearn.feature_extraction.text import  TfidfVectorizer\n",
    "\n",
    "# select only the training sentences\n",
    "df_train = df.loc[df['split'] == \"train\"]\n",
    "\n",
    "train_texts = df_train.text.values\n",
    "\n",
    "print(\"Processing corpus\\n\")\n",
    "vectorizer =  TfidfVectorizer()\n",
    "\n",
    "# tokenization and creation of Bag of Words representation\n",
    "X_train = vectorizer.fit_transform(train_texts)\n",
    "\n",
    "print(\"Shape of the matrix: (data points, features)\")\n",
    "print(X_train.shape)\n",
    "print()\n",
    "\n",
    "# targets for the training set\n",
    "Y_train = df_train.sentiment.values "
   ]
  },
  {
   "cell_type": "markdown",
   "metadata": {
    "id": "PajnwZslUg-p",
    "slideshow": {
     "slide_type": "subslide"
    }
   },
   "source": [
    "The vectorizer **fits** on the provided texts to create an internal vocabulary.\n",
    "\n",
    "The vocabulary is used to create the BoW representation.\n",
    "\n",
    "The vocabulary is a dictionary that associates to each word a corresponding column in the feature matrix."
   ]
  },
  {
   "cell_type": "markdown",
   "metadata": {
    "slideshow": {
     "slide_type": "fragment"
    }
   },
   "source": [
    "#### Homework 📖\n",
    "\n",
    "Do not try to print the whole vocabulary: it is quite large ;)\n",
    "\n",
    "Still, **it is very important** to have a look at detected tokens!"
   ]
  },
  {
   "cell_type": "markdown",
   "metadata": {
    "slideshow": {
     "slide_type": "subslide"
    }
   },
   "source": [
    "Let's check the size of the built vocabulary."
   ]
  },
  {
   "cell_type": "code",
   "execution_count": 22,
   "metadata": {
    "colab": {
     "base_uri": "https://localhost:8080/"
    },
    "id": "7fMTG5wqUfhL",
    "outputId": "c36d0a93-efe7-4aa4-f912-7a8dc96be7ee",
    "slideshow": {
     "slide_type": "fragment"
    }
   },
   "outputs": [
    {
     "name": "stdout",
     "output_type": "stream",
     "text": [
      "Size of vocabulary:\n",
      "74849\n",
      "<class 'dict'>\n"
     ]
    }
   ],
   "source": [
    "print(\"Size of vocabulary:\")\n",
    "print(len(vectorizer.vocabulary_))\n",
    "print(type(vectorizer.vocabulary_))"
   ]
  },
  {
   "cell_type": "markdown",
   "metadata": {
    "id": "g2KIWtBzMYef",
    "slideshow": {
     "slide_type": "subslide"
    }
   },
   "source": [
    "Since the vocabulary is quite big, the BoW representation of input texts is a *sparse* matrix (see [scipy.sparse](https://docs.scipy.org/doc/scipy/reference/sparse.html) for more info).\n",
    "\n",
    "Simply put, a sparse matrix is represented as a dictionary of non-zero entries, where the keys are the matrix coordinates."
   ]
  },
  {
   "cell_type": "code",
   "execution_count": 23,
   "metadata": {
    "colab": {
     "base_uri": "https://localhost:8080/"
    },
    "id": "CfcEWJaeNLWc",
    "outputId": "9120b13a-fb4a-44f6-dfae-ece03eab0d0a",
    "scrolled": true,
    "slideshow": {
     "slide_type": "fragment"
    }
   },
   "outputs": [
    {
     "name": "stdout",
     "output_type": "stream",
     "text": [
      "<Compressed Sparse Row sparse matrix of dtype 'float64'\n",
      "\twith 3445861 stored elements and shape (25000, 74849)>\n",
      "  Coords\tValues\n",
      "  (0, 48780)\t0.07437683455808204\n",
      "  (0, 71089)\t0.3411572759466054\n",
      "  (0, 16742)\t0.15835630521672903\n",
      "  (0, 71321)\t0.1462697637388363\n",
      "  (0, 40591)\t0.13550935695548164\n",
      "  (0, 66339)\t0.16064667311940728\n",
      "  (0, 25738)\t0.19243155200670298\n",
      "  (0, 34585)\t0.07065297031375764\n",
      "  (0, 46932)\t0.04996565970832315\n",
      "  (0, 46680)\t0.08382411219491039\n",
      "  (0, 43995)\t0.03736041669968358\n",
      "  (0, 13719)\t0.16761326444057742\n",
      "  (0, 66675)\t0.09923901598559316\n",
      "  (0, 30118)\t0.024960352134857557\n",
      "  (0, 22737)\t0.042215166368718894\n",
      "  (0, 58613)\t0.040550479122127045\n",
      "  (0, 34683)\t0.05329332149376032\n",
      "  (0, 53839)\t0.06969033593611378\n",
      "  (0, 72196)\t0.022878734560446083\n",
      "  (0, 50357)\t0.09119584023968826\n",
      "  (0, 64640)\t0.07432696846166174\n",
      "  (0, 63422)\t0.10457938564386521\n",
      "  (0, 13940)\t0.09888625903361496\n",
      "  (0, 7197)\t0.1295437826477587\n",
      "  (0, 59123)\t0.1522889958449226\n",
      "  :\t:\n",
      "  (24999, 21636)\t0.06631614886778509\n",
      "  (24999, 48801)\t0.061364793658764\n",
      "  (24999, 45172)\t0.058473979963732554\n",
      "  (24999, 35719)\t0.05831348170850543\n",
      "  (24999, 18885)\t0.10620592435331727\n",
      "  (24999, 58851)\t0.058473979963732554\n",
      "  (24999, 374)\t0.11244760665077666\n",
      "  (24999, 8334)\t0.06028253547081038\n",
      "  (24999, 9882)\t0.11902011255451533\n",
      "  (24999, 54984)\t0.05529651920953299\n",
      "  (24999, 23192)\t0.07332686403280356\n",
      "  (24999, 18907)\t0.05713250248232416\n",
      "  (24999, 18434)\t0.07151830852572572\n",
      "  (24999, 43672)\t0.06209109097788821\n",
      "  (24999, 20497)\t0.07440912222075717\n",
      "  (24999, 29168)\t0.06590042199826807\n",
      "  (24999, 10268)\t0.05610192287774723\n",
      "  (24999, 25439)\t0.06159973466037476\n",
      "  (24999, 38006)\t0.07894475056026122\n",
      "  (24999, 54306)\t0.07440912222075717\n",
      "  (24999, 62587)\t0.08127638413584957\n",
      "  (24999, 71672)\t0.07440912222075717\n",
      "  (24999, 42758)\t0.15427239010636679\n",
      "  (24999, 10416)\t0.07713619505318339\n",
      "  (24999, 18432)\t0.0845626370877189\n"
     ]
    }
   ],
   "source": [
    "print(X_train)"
   ]
  },
  {
   "cell_type": "markdown",
   "metadata": {
    "id": "kr38ssKTNMeQ",
    "slideshow": {
     "slide_type": "subslide"
    }
   },
   "source": [
    "It is possible to get the dense representation of a feature matrix.\n",
    "\n",
    "**Keep in mind** that the matrix will occupy a lot of memory."
   ]
  },
  {
   "cell_type": "code",
   "execution_count": 24,
   "metadata": {
    "slideshow": {
     "slide_type": "fragment"
    }
   },
   "outputs": [
    {
     "name": "stdout",
     "output_type": "stream",
     "text": [
      "[[0. 0. 0. ... 0. 0. 0.]\n",
      " [0. 0. 0. ... 0. 0. 0.]\n",
      " [0. 0. 0. ... 0. 0. 0.]\n",
      " ...\n",
      " [0. 0. 0. ... 0. 0. 0.]\n",
      " [0. 0. 0. ... 0. 0. 0.]\n",
      " [0. 0. 0. ... 0. 0. 0.]]\n"
     ]
    }
   ],
   "source": [
    "print(X_train.toarray())"
   ]
  },
  {
   "cell_type": "markdown",
   "metadata": {
    "slideshow": {
     "slide_type": "subslide"
    }
   },
   "source": [
    "#### Homework 📖\n",
    "\n",
    "Try taking a subset of the matrix and inspect its dense representation."
   ]
  },
  {
   "cell_type": "markdown",
   "metadata": {
    "id": "evLd40iCWZ8q",
    "slideshow": {
     "slide_type": "subslide"
    }
   },
   "source": [
    "We use our fitted Vectorizer to transform test texts as well.\n",
    "\n",
    "**Make sure** you invoke ``vectorizer.transform()`` and **not** ``vectorizer.fit_transform()``."
   ]
  },
  {
   "cell_type": "code",
   "execution_count": 25,
   "metadata": {
    "id": "jNz23Ep2Y3iB",
    "slideshow": {
     "slide_type": "fragment"
    }
   },
   "outputs": [],
   "source": [
    "# select only the test sentences\n",
    "df_test = df.loc[df['split'] == \"test\"]\n",
    "test_texts = df_test.text.values\n",
    "\n",
    "X_test = vectorizer.transform(test_texts)\n",
    "Y_test = df_test.sentiment.values"
   ]
  },
  {
   "cell_type": "markdown",
   "metadata": {
    "id": "nkhGO5UhgiRF",
    "slideshow": {
     "slide_type": "slide"
    }
   },
   "source": [
    "**GOLDEN RULE: DO NOT EVER EVER EVER EVER MESS WITH THE TEST SET!!!!**"
   ]
  },
  {
   "cell_type": "markdown",
   "metadata": {
    "slideshow": {
     "slide_type": "fragment"
    }
   },
   "source": [
    "You **should never** add or remove rows/instances/data points from the test set.\n",
    "\n",
    "You **should never** alter the ground-truth labels."
   ]
  },
  {
   "cell_type": "markdown",
   "metadata": {
    "slideshow": {
     "slide_type": "fragment"
    }
   },
   "source": [
    "You **can** process it to transform, add, or remove columns/features.\n",
    "\n",
    "You **can** modify the train set more freely."
   ]
  },
  {
   "cell_type": "markdown",
   "metadata": {
    "slideshow": {
     "slide_type": "subslide"
    }
   },
   "source": [
    "\n",
    "But **keep your gross fingerprints** from the test set: it is untouchable, whatever its quality.\n",
    "\n",
    "<br/>\n",
    "\n",
    "<center>\n",
    "    <img src=\"https://media.tenor.com/rPtHkeV2tkYAAAAC/stay-away-coronavirus.gif\" alt=\"features and outputs\" />\n",
    "</center>"
   ]
  },
  {
   "cell_type": "markdown",
   "metadata": {
    "slideshow": {
     "slide_type": "slide"
    }
   },
   "source": [
    "So far, we have encoded the text as it is.\n",
    "\n",
    "We can perform additional pre-processing to 'normalize' the provided text."
   ]
  },
  {
   "cell_type": "markdown",
   "metadata": {
    "id": "EQeTE9r8H2Ok",
    "slideshow": {
     "slide_type": "slide"
    }
   },
   "source": [
    "### 2.2 Stemming\n",
    "\n",
    "*''Stemming usually refers to a crude heuristic process that **chops off** the ends of words to reduce words to a common form.''* \n",
    "\n",
    "<div align='right'>\n",
    "(Introduction to Information Retrieval ~ C. D. Manning)\n",
    "</div>"
   ]
  },
  {
   "cell_type": "markdown",
   "metadata": {
    "slideshow": {
     "slide_type": "fragment"
    }
   },
   "source": [
    "**Example**\n",
    "\n",
    "*programmer*, *programs*, *programming* $\\rightarrow$ *program*"
   ]
  },
  {
   "cell_type": "code",
   "execution_count": 26,
   "metadata": {
    "colab": {
     "base_uri": "https://localhost:8080/"
    },
    "id": "BTikcP7e2Pby",
    "outputId": "6481f0cf-df2a-4274-95e5-37c503e19ae8",
    "slideshow": {
     "slide_type": "subslide"
    }
   },
   "outputs": [],
   "source": [
    "from nltk.stem import SnowballStemmer\n",
    "from nltk.tokenize import word_tokenize, sent_tokenize, WhitespaceTokenizer\n",
    "\n",
    "stemmer = SnowballStemmer(\"english\")\n",
    "tokenizer = WhitespaceTokenizer()"
   ]
  },
  {
   "cell_type": "code",
   "execution_count": 27,
   "metadata": {
    "colab": {
     "base_uri": "https://localhost:8080/"
    },
    "id": "i74KsprrFwPN",
    "outputId": "ca0c21f4-a268-4d4a-dcff-dafae16a2401",
    "slideshow": {
     "slide_type": "subslide"
    }
   },
   "outputs": [
    {
     "name": "stderr",
     "output_type": "stream",
     "text": [
      "100%|██████████████████████████████████████████████████████████████████████████████████████████████████████████████████████████████████████████████| 25000/25000 [00:36<00:00, 684.93it/s]\n",
      "100%|██████████████████████████████████████████████████████████████████████████████████████████████████████████████████████████████████████████████| 25000/25000 [00:35<00:00, 702.22it/s]\n"
     ]
    }
   ],
   "source": [
    "def stem_text(text: str):\n",
    "    words = [stemmer.stem(word) for word in tokenizer.tokenize(text)]\n",
    "    return \" \".join(words)\n",
    "\n",
    "st_train_texts = [stem_text(text) for text in tqdm(train_texts)]\n",
    "st_test_texts = [stem_text(text) for text in tqdm(test_texts)]"
   ]
  },
  {
   "cell_type": "code",
   "execution_count": 28,
   "metadata": {
    "slideshow": {
     "slide_type": "fragment"
    }
   },
   "outputs": [
    {
     "name": "stdout",
     "output_type": "stream",
     "text": [
      "Paul Verhoeven's De Vierde Man (The Fourth Man) is one of the most compelling thrillers I have ever \n",
      "\n",
      "paul verhoeven de vierd man (the fourth man) is one of the most compel thriller i have ever seen. it\n"
     ]
    }
   ],
   "source": [
    "print(train_texts[0][:100])\n",
    "print()\n",
    "print(st_train_texts[0][:100])"
   ]
  },
  {
   "cell_type": "markdown",
   "metadata": {
    "slideshow": {
     "slide_type": "subslide"
    }
   },
   "source": [
    "We encoded the pre-processed texts as before via the ``TfidfVectorizer``."
   ]
  },
  {
   "cell_type": "code",
   "execution_count": 29,
   "metadata": {
    "colab": {
     "base_uri": "https://localhost:8080/"
    },
    "id": "FPZNMU_5HwIt",
    "outputId": "e104eee9-276c-43a9-b503-21654df38d23",
    "slideshow": {
     "slide_type": "fragment"
    }
   },
   "outputs": [
    {
     "name": "stdout",
     "output_type": "stream",
     "text": [
      "Processing corpus\n",
      "\n",
      "Shape of the matrix: (data points, features)\n",
      "(25000, 70363)\n",
      "\n"
     ]
    }
   ],
   "source": [
    "print(\"Processing corpus\\n\")\n",
    "st_vectorizer =  TfidfVectorizer()\n",
    "st_X_train = st_vectorizer.fit_transform(st_train_texts)\n",
    "st_X_test = st_vectorizer.transform(st_test_texts)\n",
    "\n",
    "print(\"Shape of the matrix: (data points, features)\")\n",
    "print(st_X_train.shape)\n",
    "print()"
   ]
  },
  {
   "cell_type": "markdown",
   "metadata": {
    "id": "IHIRP1NcHxkG",
    "slideshow": {
     "slide_type": "slide"
    }
   },
   "source": [
    "### 2.3 Lemmatization\n",
    "\n",
    "*''Lemmatization usually refers to use a vocabulary and morphological analysis of words to return the base or dictionary form of a word, known as **lemma**''*\n",
    "\n",
    "<div align='right'>\n",
    "(Introduction to Information Retrieval ~ C. D. Manning)\n",
    "</div>"
   ]
  },
  {
   "cell_type": "markdown",
   "metadata": {
    "slideshow": {
     "slide_type": "fragment"
    }
   },
   "source": [
    "**Example**\n",
    "\n",
    "*saw*, *seen*, *sees* $\\rightarrow$ *see*"
   ]
  },
  {
   "cell_type": "code",
   "execution_count": 30,
   "metadata": {
    "colab": {
     "base_uri": "https://localhost:8080/"
    },
    "id": "50o_-46D51Bc",
    "outputId": "b7fdb7f7-1c67-44a9-c8b6-aa551fedf9a8",
    "slideshow": {
     "slide_type": "subslide"
    }
   },
   "outputs": [
    {
     "name": "stderr",
     "output_type": "stream",
     "text": [
      "[nltk_data] Downloading package omw-1.4 to /home/emancini/nltk_data...\n",
      "[nltk_data] Downloading package wordnet to /home/emancini/nltk_data...\n",
      "[nltk_data] Downloading package averaged_perceptron_tagger to\n",
      "[nltk_data]     /home/emancini/nltk_data...\n",
      "[nltk_data]   Unzipping taggers/averaged_perceptron_tagger.zip.\n"
     ]
    }
   ],
   "source": [
    "from nltk.stem import WordNetLemmatizer\n",
    "from nltk import pos_tag\n",
    "from nltk.corpus import wordnet\n",
    "\n",
    "nltk.download('omw-1.4')\n",
    "nltk.download('wordnet')\n",
    "nltk.download('averaged_perceptron_tagger')\n",
    "nltk.download('averaged_perceptron_tagger_eng')\n",
    "\n",
    "lemmatizer = WordNetLemmatizer()"
   ]
  },
  {
   "cell_type": "code",
   "execution_count": 33,
   "metadata": {
    "colab": {
     "base_uri": "https://localhost:8080/"
    },
    "id": "5dQmbDSXLICD",
    "outputId": "f5c712c1-bd73-4638-decc-fae7607a6858",
    "slideshow": {
     "slide_type": "subslide"
    }
   },
   "outputs": [
    {
     "name": "stderr",
     "output_type": "stream",
     "text": [
      "[nltk_data] Downloading package averaged_perceptron_tagger_eng to\n",
      "[nltk_data]     /home/emancini/nltk_data...\n",
      "[nltk_data]   Unzipping taggers/averaged_perceptron_tagger_eng.zip.\n",
      "  0%|                                                                                                                                                           | 0/25000 [00:31<?, ?it/s]\n",
      "100%|██████████████████████████████████████████████████████████████████████████████████████████████████████████████████████████████████████████████| 25000/25000 [02:23<00:00, 174.25it/s]\n",
      "100%|██████████████████████████████████████████████████████████████████████████████████████████████████████████████████████████████████████████████| 25000/25000 [02:18<00:00, 180.01it/s]\n"
     ]
    }
   ],
   "source": [
    "def get_wordnet_key(pos_tag):\n",
    "    if pos_tag.startswith('J'):\n",
    "        return wordnet.ADJ\n",
    "    elif pos_tag.startswith('V'):\n",
    "        return wordnet.VERB\n",
    "    elif pos_tag.startswith('N'):\n",
    "        return wordnet.NOUN\n",
    "    elif pos_tag.startswith('R'):\n",
    "        return wordnet.ADV\n",
    "    else:          \n",
    "        return 'n'\n",
    "\n",
    "def lem_text(text: str):\n",
    "    tokens = tokenizer.tokenize(text)\n",
    "    tagged = pos_tag(tokens)\n",
    "    words = [lemmatizer.lemmatize(word, get_wordnet_key(tag)) for word, tag in tagged]\n",
    "    return \" \".join(words)\n",
    "\n",
    "lem_train_texts = [lem_text(text) for text in tqdm(train_texts, leave=True, position=0)]\n",
    "lem_test_texts = [lem_text(text) for text in tqdm(test_texts, leave=True, position=0)]"
   ]
  },
  {
   "cell_type": "code",
   "execution_count": 34,
   "metadata": {
    "slideshow": {
     "slide_type": "subslide"
    }
   },
   "outputs": [
    {
     "name": "stdout",
     "output_type": "stream",
     "text": [
      "Police Story is a stunning series of set pieces for Jackie Chan to show his unique talents and brave\n",
      "\n",
      "Police Story be a stunning series of set piece for Jackie Chan to show his unique talent and bravery\n"
     ]
    }
   ],
   "source": [
    "print(train_texts[40][:100])\n",
    "print()\n",
    "print(lem_train_texts[40][:100])"
   ]
  },
  {
   "cell_type": "markdown",
   "metadata": {
    "slideshow": {
     "slide_type": "subslide"
    }
   },
   "source": [
    "We encoded the pre-processed texts as before via the ``TfidfVectorizer``."
   ]
  },
  {
   "cell_type": "code",
   "execution_count": 35,
   "metadata": {
    "colab": {
     "base_uri": "https://localhost:8080/"
    },
    "id": "BLRcJtAyGumx",
    "outputId": "360f4ea9-c782-468f-b746-e61718abac9d",
    "slideshow": {
     "slide_type": "fragment"
    }
   },
   "outputs": [
    {
     "name": "stdout",
     "output_type": "stream",
     "text": [
      "Processing corpus\n",
      "\n",
      "Shape of the matrix: (data points, features)\n",
      "(25000, 70649)\n",
      "\n"
     ]
    }
   ],
   "source": [
    "print(\"Processing corpus\\n\")\n",
    "lem_vectorizer =  TfidfVectorizer()\n",
    "lem_X_train = lem_vectorizer.fit_transform(lem_train_texts)\n",
    "lem_X_test = lem_vectorizer.transform(lem_test_texts)\n",
    "\n",
    "print(\"Shape of the matrix: (data points, features)\")\n",
    "print(lem_X_train.shape)\n",
    "print()"
   ]
  },
  {
   "cell_type": "markdown",
   "metadata": {
    "id": "Xe5NPH5Gb5FI",
    "slideshow": {
     "slide_type": "slide"
    }
   },
   "source": [
    "## 3. Training and Evaluating a Classifier\n",
    "\n",
    "We are now ready to try out some standard machine learning classifiers."
   ]
  },
  {
   "cell_type": "markdown",
   "metadata": {
    "slideshow": {
     "slide_type": "subslide"
    }
   },
   "source": [
    "**But** first, we introduce some baselines."
   ]
  },
  {
   "cell_type": "markdown",
   "metadata": {
    "slideshow": {
     "slide_type": "fragment"
    }
   },
   "source": [
    "#### The importance of defining good baselines\n",
    "\n",
    "Good baselines are always needed to consistently evaluate employed models.\n",
    "\n",
    "When proposing a novel model, good baselines are recent state-of-the-art models.\n",
    "\n",
    "When proposing a benchmark, good baselines are general-purpose off-the-shelf models."
   ]
  },
  {
   "cell_type": "markdown",
   "metadata": {
    "id": "noDTCzKrLElj",
    "slideshow": {
     "slide_type": "subslide"
    }
   },
   "source": [
    "### 3.1 Baselines\n",
    "\n",
    "The majority baseline always predicts the majority class.\n",
    "\n",
    "The random baseline makes uniform random predictions.\n",
    "\n",
    "Their performances will tell us how much difficult this task is."
   ]
  },
  {
   "cell_type": "code",
   "execution_count": 36,
   "metadata": {
    "id": "7H8brk7OMHbp",
    "slideshow": {
     "slide_type": "subslide"
    }
   },
   "outputs": [],
   "source": [
    "from sklearn.dummy import DummyClassifier\n",
    "\n",
    "majority_classifier = DummyClassifier(strategy=\"prior\")\n",
    "uniform_classifier = DummyClassifier(strategy=\"uniform\")\n",
    "\n",
    "majority_classifier.fit(X_train, Y_train)\n",
    "uniform_classifier.fit(X_train, Y_train)\n",
    "\n",
    "Y_pred_train_maj = majority_classifier.predict(X_train)\n",
    "Y_pred_test_maj = majority_classifier.predict(X_test)\n",
    "Y_pred_train_uni = uniform_classifier.predict(X_train)\n",
    "Y_pred_test_uni = uniform_classifier.predict(X_test)"
   ]
  },
  {
   "cell_type": "markdown",
   "metadata": {
    "slideshow": {
     "slide_type": "subslide"
    }
   },
   "source": [
    "#### Homework 📖\n",
    "\n",
    "Try out a random baseline that samples predictions according to label distribution."
   ]
  },
  {
   "cell_type": "markdown",
   "metadata": {
    "slideshow": {
     "slide_type": "subslide"
    }
   },
   "source": [
    "We now evaluate model predictions via some metrics."
   ]
  },
  {
   "cell_type": "code",
   "execution_count": 37,
   "metadata": {
    "colab": {
     "base_uri": "https://localhost:8080/"
    },
    "id": "-uRJSSNzNv6x",
    "outputId": "e505c8bd-6af5-4058-f543-a2f79504482c",
    "slideshow": {
     "slide_type": "fragment"
    }
   },
   "outputs": [],
   "source": [
    "from sklearn.metrics import classification_report\n",
    "\n",
    "def evaluate_classification(y_true, y_pred):\n",
    "    report = classification_report(y_true, y_pred, target_names=['neg', 'pos'])\n",
    "    print(report)"
   ]
  },
  {
   "cell_type": "code",
   "execution_count": 38,
   "metadata": {
    "slideshow": {
     "slide_type": "subslide"
    }
   },
   "outputs": [
    {
     "name": "stdout",
     "output_type": "stream",
     "text": [
      "              precision    recall  f1-score   support\n",
      "\n",
      "         neg       0.50      1.00      0.67     12500\n",
      "         pos       0.00      0.00      0.00     12500\n",
      "\n",
      "    accuracy                           0.50     25000\n",
      "   macro avg       0.25      0.50      0.33     25000\n",
      "weighted avg       0.25      0.50      0.33     25000\n",
      "\n",
      "              precision    recall  f1-score   support\n",
      "\n",
      "         neg       0.50      1.00      0.67     12500\n",
      "         pos       0.00      0.00      0.00     12500\n",
      "\n",
      "    accuracy                           0.50     25000\n",
      "   macro avg       0.25      0.50      0.33     25000\n",
      "weighted avg       0.25      0.50      0.33     25000\n",
      "\n"
     ]
    },
    {
     "name": "stderr",
     "output_type": "stream",
     "text": [
      "/home/emancini/miniforge3/envs/nlp-teaching/lib/python3.10/site-packages/sklearn/metrics/_classification.py:1531: UndefinedMetricWarning: Precision is ill-defined and being set to 0.0 in labels with no predicted samples. Use `zero_division` parameter to control this behavior.\n",
      "  _warn_prf(average, modifier, f\"{metric.capitalize()} is\", len(result))\n",
      "/home/emancini/miniforge3/envs/nlp-teaching/lib/python3.10/site-packages/sklearn/metrics/_classification.py:1531: UndefinedMetricWarning: Precision is ill-defined and being set to 0.0 in labels with no predicted samples. Use `zero_division` parameter to control this behavior.\n",
      "  _warn_prf(average, modifier, f\"{metric.capitalize()} is\", len(result))\n",
      "/home/emancini/miniforge3/envs/nlp-teaching/lib/python3.10/site-packages/sklearn/metrics/_classification.py:1531: UndefinedMetricWarning: Precision is ill-defined and being set to 0.0 in labels with no predicted samples. Use `zero_division` parameter to control this behavior.\n",
      "  _warn_prf(average, modifier, f\"{metric.capitalize()} is\", len(result))\n",
      "/home/emancini/miniforge3/envs/nlp-teaching/lib/python3.10/site-packages/sklearn/metrics/_classification.py:1531: UndefinedMetricWarning: Precision is ill-defined and being set to 0.0 in labels with no predicted samples. Use `zero_division` parameter to control this behavior.\n",
      "  _warn_prf(average, modifier, f\"{metric.capitalize()} is\", len(result))\n",
      "/home/emancini/miniforge3/envs/nlp-teaching/lib/python3.10/site-packages/sklearn/metrics/_classification.py:1531: UndefinedMetricWarning: Precision is ill-defined and being set to 0.0 in labels with no predicted samples. Use `zero_division` parameter to control this behavior.\n",
      "  _warn_prf(average, modifier, f\"{metric.capitalize()} is\", len(result))\n",
      "/home/emancini/miniforge3/envs/nlp-teaching/lib/python3.10/site-packages/sklearn/metrics/_classification.py:1531: UndefinedMetricWarning: Precision is ill-defined and being set to 0.0 in labels with no predicted samples. Use `zero_division` parameter to control this behavior.\n",
      "  _warn_prf(average, modifier, f\"{metric.capitalize()} is\", len(result))\n"
     ]
    }
   ],
   "source": [
    "evaluate_classification(y_true=Y_train, y_pred=Y_pred_train_maj)\n",
    "evaluate_classification(y_true=Y_test, y_pred=Y_pred_test_maj)"
   ]
  },
  {
   "cell_type": "code",
   "execution_count": 39,
   "metadata": {
    "slideshow": {
     "slide_type": "subslide"
    }
   },
   "outputs": [
    {
     "name": "stdout",
     "output_type": "stream",
     "text": [
      "              precision    recall  f1-score   support\n",
      "\n",
      "         neg       0.50      0.51      0.51     12500\n",
      "         pos       0.50      0.50      0.50     12500\n",
      "\n",
      "    accuracy                           0.50     25000\n",
      "   macro avg       0.50      0.50      0.50     25000\n",
      "weighted avg       0.50      0.50      0.50     25000\n",
      "\n",
      "              precision    recall  f1-score   support\n",
      "\n",
      "         neg       0.50      0.49      0.50     12500\n",
      "         pos       0.50      0.50      0.50     12500\n",
      "\n",
      "    accuracy                           0.50     25000\n",
      "   macro avg       0.50      0.50      0.50     25000\n",
      "weighted avg       0.50      0.50      0.50     25000\n",
      "\n"
     ]
    }
   ],
   "source": [
    "evaluate_classification(y_true=Y_train, y_pred=Y_pred_train_uni)\n",
    "evaluate_classification(y_true=Y_test, y_pred=Y_pred_test_uni) "
   ]
  },
  {
   "cell_type": "markdown",
   "metadata": {
    "id": "022pneV8hOnd",
    "slideshow": {
     "slide_type": "subslide"
    }
   },
   "source": [
    "#### 3.1.1 The importance of model evaluation\n",
    "\n",
    "In most cases, accuracy is **not a very informative metric**. \n",
    "\n",
    "Precision, recall, and F1 are more informative\n",
    "\n",
    "F1 is generally a good indicator. In particular, macro F1 in case the test set in unbalanced.\n",
    "\n",
    "Whether precision or recall are more important depends on the specific application, if the priority is to avoid false positives or false negatives.\n",
    "\n",
    "Other metrics do exists (e.g., Area Under ROC Curve), always check the literature to find the most informative way to measure something!"
   ]
  },
  {
   "cell_type": "markdown",
   "metadata": {
    "id": "X_MZ91GaRyJP",
    "slideshow": {
     "slide_type": "subslide"
    }
   },
   "source": [
    "#### Homework 📖\n",
    "\n",
    "Try sampling an unbalanced test set and run model evaluation.\n",
    "\n",
    "Do you see any differences in terms of metric values?"
   ]
  },
  {
   "cell_type": "code",
   "execution_count": 40,
   "metadata": {
    "colab": {
     "base_uri": "https://localhost:8080/",
     "height": 824
    },
    "id": "PihvHXH3TBLV",
    "outputId": "497f7dc7-45b3-4534-a207-c8b5d176540b",
    "slideshow": {
     "slide_type": "subslide"
    }
   },
   "outputs": [
    {
     "data": {
      "text/plain": [
       "<sklearn.metrics._plot.confusion_matrix.ConfusionMatrixDisplay at 0x7ff81bd513f0>"
      ]
     },
     "execution_count": 40,
     "metadata": {},
     "output_type": "execute_result"
    },
    {
     "data": {
      "image/png": "[encoded data removed]",
      "text/plain": [
       "<Figure size 640x480 with 1 Axes>"
      ]
     },
     "metadata": {},
     "output_type": "display_data"
    },
    {
     "data": {
      "image/png": "[encoded data removed]",
      "text/plain": [
       "<Figure size 640x480 with 2 Axes>"
      ]
     },
     "metadata": {},
     "output_type": "display_data"
    },
    {
     "data": {
      "image/png": "[encoded data removed]",
      "text/plain": [
       "<Figure size 640x480 with 2 Axes>"
      ]
     },
     "metadata": {},
     "output_type": "display_data"
    }
   ],
   "source": [
    "# plot precision/recall curve and confusion matrix\n",
    "from sklearn.metrics import precision_recall_curve, PrecisionRecallDisplay, ConfusionMatrixDisplay, PrecisionRecallDisplay\n",
    "\n",
    "PrecisionRecallDisplay.from_estimator(majority_classifier, X_test, Y_test)\n",
    "ConfusionMatrixDisplay.from_estimator(majority_classifier, X_test, Y_test, normalize=None, cmap=plt.cm.Blues)\n",
    "ConfusionMatrixDisplay.from_estimator(majority_classifier, X_test, Y_test, normalize='all', cmap=plt.cm.Blues, values_format=\".2f\")"
   ]
  },
  {
   "cell_type": "markdown",
   "metadata": {
    "id": "NYB6E1qyVYtO",
    "slideshow": {
     "slide_type": "fragment"
    }
   },
   "source": [
    "In most cases it is better to use the normalized version, especially with unbalanced distributions!"
   ]
  },
  {
   "cell_type": "markdown",
   "metadata": {
    "id": "N0HSskuMAwZv",
    "slideshow": {
     "slide_type": "subslide"
    }
   },
   "source": [
    "Looking at confusion tables row-wise gives information about recall, looking column-wise gives information about precision.\n",
    "\n",
    "<center>\n",
    "    <img src=\"images/confusion_matrix.png\" alt=\"confusion matrix\" />\n",
    "</center>\n",
    "\n",
    "<div align='right'>\n",
    "(wikipedia)\n",
    "</div>"
   ]
  },
  {
   "cell_type": "code",
   "execution_count": 41,
   "metadata": {
    "colab": {
     "base_uri": "https://localhost:8080/",
     "height": 1000
    },
    "id": "AAR8cXdWTNSI",
    "outputId": "f600556a-f370-4207-d205-4e47260dcf3b",
    "scrolled": true,
    "slideshow": {
     "slide_type": "subslide"
    }
   },
   "outputs": [
    {
     "data": {
      "text/plain": [
       "<sklearn.metrics._plot.confusion_matrix.ConfusionMatrixDisplay at 0x7ff81cd5db70>"
      ]
     },
     "execution_count": 41,
     "metadata": {},
     "output_type": "execute_result"
    },
    {
     "data": {
      "image/png": "[encoded data removed]",
      "text/plain": [
       "<Figure size 640x480 with 1 Axes>"
      ]
     },
     "metadata": {},
     "output_type": "display_data"
    },
    {
     "data": {
      "image/png": "[encoded data removed]",
      "text/plain": [
       "<Figure size 640x480 with 2 Axes>"
      ]
     },
     "metadata": {},
     "output_type": "display_data"
    },
    {
     "data": {
      "image/png": "[encoded data removed]",
      "text/plain": [
       "<Figure size 640x480 with 2 Axes>"
      ]
     },
     "metadata": {},
     "output_type": "display_data"
    }
   ],
   "source": [
    "PrecisionRecallDisplay.from_estimator(uniform_classifier, X_test, Y_test)\n",
    "ConfusionMatrixDisplay.from_estimator(uniform_classifier, X_test, Y_test, normalize=None, cmap=plt.cm.Blues)\n",
    "ConfusionMatrixDisplay.from_estimator(uniform_classifier, X_test, Y_test, normalize='all', cmap=plt.cm.Blues, values_format=\".2f\")"
   ]
  },
  {
   "cell_type": "markdown",
   "metadata": {
    "slideshow": {
     "slide_type": "subslide"
    }
   },
   "source": [
    "### 3.2 Bayes Classifier\n",
    "\n",
    "Let's try out our first classifier: A Naive Bayes Classifier (NB)."
   ]
  },
  {
   "cell_type": "code",
   "execution_count": 42,
   "metadata": {
    "slideshow": {
     "slide_type": "fragment"
    }
   },
   "outputs": [],
   "source": [
    "from sklearn.naive_bayes import MultinomialNB\n",
    "\n",
    "nb_classifier = MultinomialNB()\n",
    "\n",
    "nb_classifier.fit(X_train, Y_train)\n",
    "\n",
    "Y_pred_train_nb = nb_classifier.predict(X_train)\n",
    "Y_pred_test_nb = nb_classifier.predict(X_test)"
   ]
  },
  {
   "cell_type": "code",
   "execution_count": 43,
   "metadata": {
    "slideshow": {
     "slide_type": "subslide"
    }
   },
   "outputs": [
    {
     "name": "stdout",
     "output_type": "stream",
     "text": [
      "              precision    recall  f1-score   support\n",
      "\n",
      "         neg       0.89      0.93      0.91     12500\n",
      "         pos       0.93      0.89      0.91     12500\n",
      "\n",
      "    accuracy                           0.91     25000\n",
      "   macro avg       0.91      0.91      0.91     25000\n",
      "weighted avg       0.91      0.91      0.91     25000\n",
      "\n",
      "              precision    recall  f1-score   support\n",
      "\n",
      "         neg       0.79      0.89      0.84     12500\n",
      "         pos       0.87      0.77      0.82     12500\n",
      "\n",
      "    accuracy                           0.83     25000\n",
      "   macro avg       0.83      0.83      0.83     25000\n",
      "weighted avg       0.83      0.83      0.83     25000\n",
      "\n"
     ]
    }
   ],
   "source": [
    "evaluate_classification(y_true=Y_train, y_pred=Y_pred_train_nb)\n",
    "evaluate_classification(y_true=Y_test, y_pred=Y_pred_test_nb)"
   ]
  },
  {
   "cell_type": "code",
   "execution_count": 44,
   "metadata": {
    "slideshow": {
     "slide_type": "subslide"
    }
   },
   "outputs": [
    {
     "data": {
      "text/plain": [
       "<sklearn.metrics._plot.confusion_matrix.ConfusionMatrixDisplay at 0x7ff81cb6bbb0>"
      ]
     },
     "execution_count": 44,
     "metadata": {},
     "output_type": "execute_result"
    },
    {
     "data": {
      "image/png": "[encoded data removed]",
      "text/plain": [
       "<Figure size 640x480 with 1 Axes>"
      ]
     },
     "metadata": {},
     "output_type": "display_data"
    },
    {
     "data": {
      "image/png": "[encoded data removed]",
      "text/plain": [
       "<Figure size 640x480 with 2 Axes>"
      ]
     },
     "metadata": {},
     "output_type": "display_data"
    },
    {
     "data": {
      "image/png": "[encoded data removed]",
      "text/plain": [
       "<Figure size 640x480 with 2 Axes>"
      ]
     },
     "metadata": {},
     "output_type": "display_data"
    }
   ],
   "source": [
    "PrecisionRecallDisplay.from_estimator(nb_classifier, X_test, Y_test)\n",
    "ConfusionMatrixDisplay.from_estimator(nb_classifier, X_test, Y_test, cmap=plt.cm.Blues)\n",
    "ConfusionMatrixDisplay.from_estimator(nb_classifier, X_test, Y_test, normalize='all', cmap=plt.cm.Blues, values_format=\".2f\")"
   ]
  },
  {
   "cell_type": "markdown",
   "metadata": {
    "id": "xdb8GOD9LXa5",
    "slideshow": {
     "slide_type": "subslide"
    }
   },
   "source": [
    "### 3.3 SVC Classifier\n",
    "\n",
    "We consider another classifier: a Support Vector Machine (SVM)."
   ]
  },
  {
   "cell_type": "code",
   "execution_count": 45,
   "metadata": {
    "id": "lTnd0-X2b3ke",
    "slideshow": {
     "slide_type": "fragment"
    }
   },
   "outputs": [],
   "source": [
    "from sklearn.svm import LinearSVC\n",
    "\n",
    "svc_classifier = LinearSVC()\n",
    "\n",
    "svc_classifier.fit(X_train, Y_train)\n",
    "\n",
    "Y_pred_train_svc = svc_classifier.predict(X_train)\n",
    "Y_pred_test_svc = svc_classifier.predict(X_test)"
   ]
  },
  {
   "cell_type": "code",
   "execution_count": 46,
   "metadata": {
    "colab": {
     "base_uri": "https://localhost:8080/"
    },
    "id": "vG4oUWA0k3yS",
    "outputId": "9a626934-5030-4dd9-9d35-06fe8bb043e0",
    "slideshow": {
     "slide_type": "subslide"
    }
   },
   "outputs": [
    {
     "name": "stdout",
     "output_type": "stream",
     "text": [
      "              precision    recall  f1-score   support\n",
      "\n",
      "         neg       0.99      0.99      0.99     12500\n",
      "         pos       0.99      0.99      0.99     12500\n",
      "\n",
      "    accuracy                           0.99     25000\n",
      "   macro avg       0.99      0.99      0.99     25000\n",
      "weighted avg       0.99      0.99      0.99     25000\n",
      "\n",
      "              precision    recall  f1-score   support\n",
      "\n",
      "         neg       0.87      0.89      0.88     12500\n",
      "         pos       0.89      0.87      0.88     12500\n",
      "\n",
      "    accuracy                           0.88     25000\n",
      "   macro avg       0.88      0.88      0.88     25000\n",
      "weighted avg       0.88      0.88      0.88     25000\n",
      "\n"
     ]
    }
   ],
   "source": [
    "evaluate_classification(y_true=Y_train, y_pred=Y_pred_train_svc)\n",
    "evaluate_classification(y_true=Y_test, y_pred=Y_pred_test_svc)"
   ]
  },
  {
   "cell_type": "code",
   "execution_count": 47,
   "metadata": {
    "colab": {
     "base_uri": "https://localhost:8080/",
     "height": 820
    },
    "id": "OgtGYwjncFpn",
    "outputId": "1ea9fead-8fbc-4300-9545-7ed0ccce70de",
    "scrolled": true,
    "slideshow": {
     "slide_type": "subslide"
    }
   },
   "outputs": [
    {
     "data": {
      "text/plain": [
       "<sklearn.metrics._plot.confusion_matrix.ConfusionMatrixDisplay at 0x7ff81cd10190>"
      ]
     },
     "execution_count": 47,
     "metadata": {},
     "output_type": "execute_result"
    },
    {
     "data": {
      "image/png": "[encoded data removed]",
      "text/plain": [
       "<Figure size 640x480 with 1 Axes>"
      ]
     },
     "metadata": {},
     "output_type": "display_data"
    },
    {
     "data": {
      "image/png": "[encoded data removed]",
      "text/plain": [
       "<Figure size 640x480 with 2 Axes>"
      ]
     },
     "metadata": {},
     "output_type": "display_data"
    },
    {
     "data": {
      "image/png": "[encoded data removed]",
      "text/plain": [
       "<Figure size 640x480 with 2 Axes>"
      ]
     },
     "metadata": {},
     "output_type": "display_data"
    }
   ],
   "source": [
    "PrecisionRecallDisplay.from_estimator(svc_classifier, X_test, Y_test)\n",
    "ConfusionMatrixDisplay.from_estimator(svc_classifier, X_test, Y_test, cmap=plt.cm.Blues)\n",
    "ConfusionMatrixDisplay.from_estimator(svc_classifier, X_test, Y_test, normalize='all', cmap=plt.cm.Blues, values_format=\".2f\")"
   ]
  },
  {
   "cell_type": "markdown",
   "metadata": {
    "id": "TRLGlUAKSv0-",
    "slideshow": {
     "slide_type": "slide"
    }
   },
   "source": [
    "### 3.4 Error Analysis\n",
    "\n",
    "Let's try to understand what kind of errors are done by the model. \n",
    "\n",
    "We can look at specific cases of error."
   ]
  },
  {
   "cell_type": "code",
   "execution_count": 48,
   "metadata": {
    "id": "zBtBePtaTKlp",
    "slideshow": {
     "slide_type": "subslide"
    }
   },
   "outputs": [],
   "source": [
    "# confidence of the model\n",
    "confidence = svc_classifier.decision_function(X_test)\n",
    "\n",
    "fp_i = []\n",
    "fn_i = []\n",
    "fp_v = []\n",
    "fn_v = []\n",
    "fp_c = []\n",
    "fn_c = []\n",
    "\n",
    "for index, value in enumerate(Y_test):\n",
    "    # false positives\n",
    "    if value==0 and Y_pred_test_svc[index]==1:\n",
    "        fp_i.append(index)\n",
    "        fp_v.append(value)\n",
    "        fp_c.append(confidence[index])\n",
    "    # false negatives\n",
    "    elif value==1 and Y_pred_test_svc[index]==0:\n",
    "        fn_i.append(index)\n",
    "        fn_v.append(value)\n",
    "        fn_c.append(confidence[index])"
   ]
  },
  {
   "cell_type": "markdown",
   "metadata": {
    "id": "Ey4zy1ltVRoE",
    "slideshow": {
     "slide_type": "subslide"
    }
   },
   "source": [
    "Let's print some examples of FN and FP and the confidence in their classification"
   ]
  },
  {
   "cell_type": "code",
   "execution_count": 49,
   "metadata": {
    "colab": {
     "base_uri": "https://localhost:8080/"
    },
    "id": "dKNL64KsVUjF",
    "outputId": "a69982cf-c909-480d-d20f-4e70674a15e0",
    "slideshow": {
     "slide_type": "fragment"
    }
   },
   "outputs": [
    {
     "name": "stdout",
     "output_type": "stream",
     "text": [
      "FN\n",
      "I'd honestly give this movie a solid 7.5, but I clicked 10 to try to offset the 5 pages of imbecilic, unjustified 1-star reviews. This is an interesting story, all of the acting is good to very good (even Ms. Diaz, who is totally out of her usual grinning-bimbo role here, yet plays it well.) The sets are perfect and the cinematography is consistently appropriately creepy. It's a fine morality play and there is *no* reason to explain the origin of the god/supernatural being/alien/whatever that's \"running the show,\" so I'm glad the movie doesn't try. It's really irrelevant to the story, which is relatively long but quite compelling and summed up quite satisfyingly in the ending. <br /><br />Before you decide this movie is terrible (or really, anything under a ~7.5) read some of the dozens of 1-star \"hated it\" reviews that are rife with misspellings, lack of punctuation and capitalization, and juvenile criticisms. Maybe the trailer was misleading or something -- I didn't see it -- but some of these reviewers were apparently expecting Terminator 4 or Saw 5 (one reviewer actually compared this movie to Saw! How utterly inappropriate and unrelated!) <br /><br />Seriously, most of these reviews read like you-tube comments -- according to these \"critics\" this movie is too confusing yet too predictable, not enough action yet there's too much going on, too smart yet too dumb, explains too much yet leaves too much unexplained... oh -- and it's apparently a \"waist (sic) of time.\" Do consider the quality and source of the reviews before taking them to heart. I'm afraid these 1-star kids failed to understand the phrase \"altruism coefficient\" and were therefore utterly incapable of understanding the movie's premise (despite adamantly claiming that they \"get it\" right before explaining how confusing it was!) If you know what those two words mean you will have no trouble understanding (and enjoying) this movie.<br /><br />I really wish there were a reviewer reputation system here so I could be sure to ignore the rating of everyone who gave this movie 1 star forever.<br /><br />See it for yourself and enjoy the fine presentation of an interesting couple taking an interesting moral \"test\" and facing the consequences. It's a good time, in my opinion.\n",
      "-0.3232998334312244\n",
      "\n",
      "No one would ever question that director Leos Carax is a genius, but what we wonder about is: is he an insane genius? So many people hated this film! I am normally the first person to accuse many French directors of making offensive, boring, disgusting and pretentious films (such as the horrible recent film 'L'Enfant' and the pointless and offensive 'Feux Rouges'). But strangely enough, I actually think that 'Pola X' is an amazing film, made with great skill and passion by a master of his craft, and containing remarkable performances. The film does carry melodrama to more extreme lengths than I believe I have ever seen on screen before. But then, Carax is extreme, that we know. The film also contains what I consider way over-the-top Trotskyite or Anarchist fantasies and wet-dreams, what with a mysterious group of young men training to fire machine guns at the bourgeoisie in between playing Scott Walker's rather fascinating music in a band which has its recording sessions in an abandoned warehouse filled with squatters and fires burning in old steel barrels. Guillaume Depardieu plays a rich young man in a château (whose step-mother is Catherine Deneuve, and he wanders into her bathroom while she is naked in the bath, by the way). But he suddenly 'snaps' completely when he discovers that his deceased father, a famous diplomat, had fathered an illegitimate daughter who had been effectively disposed of by Deneuve as an inconvenience. This is because the sister suddenly turns up as a kind of Romanian refugee with wild dishevelled hair, expressionless face, and little ability to speak French coherently. Depardieu then transforms himself into a 'class hero' of the far left and wants to kill or destroy his family for their hypocrisy and corruption, and lives in squalor and extreme poverty, while scorning a vast inheritance. He then commences an incestuous sexual relationship with his half-sister, which is shown in an explicit sex scene which has offended many people, though I have no objection to it, as I think people are far too hysterical about sex, especially in America, where apparently it never happens. The intensity of the acting and the filming make this unlikely scenario come off as an experience of powerful, if depressing, hyper-melodrama. The differences between Carax making an extreme film like this and the numerous extreme French films which I think are pretentious and disgusting are (1) that Carax is an excellent filmmaker, and (2) he is seriously attempting to explore a meaningful, if harrowing, extreme emotional condition, whereby a human being disintegrates and turns against his background. Many would say that the extreme elements in this film were gratuitous, but I don't agree. I believe Carax was genuine, and was not making an exploitation picture at all. It is very difficult to defend a man who goes that far and who, for all I know, may be a complete madman, but I believe he deserves defending for this remarkable cinematic achievement.\n",
      "-0.25690549395936313\n",
      "\n"
     ]
    }
   ],
   "source": [
    "print(\"FN\")\n",
    "\n",
    "for index in [0, 3]:\n",
    "    print(test_texts[fn_i[index]])\n",
    "    print(fn_c[index])\n",
    "    print()"
   ]
  },
  {
   "cell_type": "code",
   "execution_count": 50,
   "metadata": {
    "scrolled": true,
    "slideshow": {
     "slide_type": "subslide"
    }
   },
   "outputs": [
    {
     "name": "stdout",
     "output_type": "stream",
     "text": [
      "FP\n",
      "This movie is filled with so many idiotic moments, that you wonder how it ever got made. For example, they get into the sewers from the Capitol and while they're in the sewers you can see signs pointing to various government buildings, and then they come up in the middle of the street! I highly doubt that government buildings would provide public access through the city sewer system. Anyways, I gave this a 2 instead of a 1 just because of its comic value. I laughed the whole way through at the idiocy of everyone involved in this movie.\n",
      "0.11381443000722369\n",
      "\n",
      "Seymour Cassel gives a great performance, a tour de force. His acting as supposed washed up beach stud Duke Slusarski will always have a place in my heart. The film is centered around a nerd who just came to the beach in hopes of honoring his dead brother's dreams. What he gets is lame surf hijinks. Guys cheating, guys fighting, and guys getting drunk going to watch surf documentaries with the whole town of LA on a Friday night. Duke takes the nerd in and tries to teach him how playing volleyball is like touching a woman. Next time my woman talks back I will pretend I'm spiking the ball. <br /><br />Back to Seymour Cassel. The end of the movie turns into a good drama, since the first half of the film really had no point. Duke plays a wonderful game of volleyball, the best he's played in over ten years. The way the scene is shot is beautiful. You can feel the heart this man has for the game and the love of being on the beach. Those five minutes will go down as one of my favorites of all time. 3/10 Bad to Fair, the rest of the movie was lame.\n",
      "0.06688671652185901\n",
      "\n"
     ]
    }
   ],
   "source": [
    "print(\"FP\")\n",
    "\n",
    "for index in [0, 6]:\n",
    "    print(test_texts[fp_i[index]])\n",
    "    print(fp_c[index])\n",
    "    print()"
   ]
  },
  {
   "cell_type": "markdown",
   "metadata": {
    "id": "BPVAEPWVcuOB",
    "slideshow": {
     "slide_type": "subslide"
    }
   },
   "source": [
    "We now check the sentences for which the classification error is bigger."
   ]
  },
  {
   "cell_type": "code",
   "execution_count": 51,
   "metadata": {
    "colab": {
     "base_uri": "https://localhost:8080/"
    },
    "id": "blgisqSqc45b",
    "outputId": "7d8d9e0d-5e60-4fa0-de60-070257e71776",
    "slideshow": {
     "slide_type": "fragment"
    }
   },
   "outputs": [
    {
     "name": "stdout",
     "output_type": "stream",
     "text": [
      "This movie was pure genius. John Waters is brilliant. It is hilarious and I am not sick of it even after seeing it about 20 times since I bought it a few months ago. The acting is great, although Ricki Lake could have been better. And Johnny Depp is magnificent. He is such a beautiful man and a very talented actor. And seeing most of Johnny's movies, this is probably my favorite. I give it 9.5/10. Rent it today!\n",
      "2.070315526195805\n",
      "\n",
      "The breadth & height of the scale of this movie overwhelm me. About a week ago I posted a commentary on the 1926 silent epic MACISTE IN HELL referring to it as \"staggering\". Then I encountered the Pollonia Bros. BLOOD RED PLANET. Wow ...<br /><br />It's all about the scale of the thinking behind it. The Pollonia Bros. and colleague John McBride were thinking so big that the musings of Arthur C. Clark & Stanley Kubrick's 2001: A SPACE ODESSEY is lucky it was released thirty-two years before this sweetheart. As a matter of fact, Kubrick had it easy with modelers, a budget, actual actors and major studio backing for his little \"Star Trek\" ripoff, and all that Arthur C. Clarke had to do was write the damn thing. What's so hard about muscling around a typewriter? The Pollonia brothers on the other hand had to think radical, outside of the box, and quickly. They recruited a half dozen of their friends & colleagues -- including a hot lookin' chick -- bought a bunch of colored lightbulbs, raided old office supply dumps for every keyboard, monitor and hands-free phone headset they could find, got everybody identical black turtlenecks, made off with every cupcake tin in the county, learned enough 3d modeling & texture skinning to animate a couple of space ship fly-bys, spent a couple hours drumming up a script, executed what is easily the most frightening space monster puppet since that horrible little monster Jabba the Hut carried around with him was fried by R2D2, spent literally days working with a VHS camera and an Amiga to shoot & edit their film, and came up winners. This is the best D.I.Y. direct to home video fan movie space epic I've ever seen, and in proportion to the amount of talent & resources at the disposal of the filmmakers dwarfs even LOGANS RUN or BATTLESTAR: GALACTICA (the original series) as being a chilling look at our future, right down to a newscaster wearing a mis-matched, ill-fitting 2nd hand suit. As a species, we are doomed.<br /><br />Seriously for a minute, though, it is a vast improvement upon such later epics as THE DINOSAUR CHRONICALS or PREYALIEN: ALIEN PREDATORS, which is funny since it was made before either of those masterpieces. Somewhere along the lines the Pollonia's started taking it easy on themselves: This film is executed with a certain conviction that gets you to believe that you really can breathe in a vacuum wearing a dust mask and two biker squirt bottles. And the scene where the alien beast consumes a miniaturized crew member made me immediately think of where I'd seen that before: GODZILLA VS. THE SEA MONSTER, where the giant rampaging monster crab skewers two canoers and eats them on camera. That made me cry when I was a kid.<br /><br />This made me cry as an adult because here I am wasting my time trying to be some sort of critic or writer or writer/critic and these guys get to have all the fun, actually making a real feature length sci-fi epic with lots of cool colored lights, a hot chick and a talking slide projector named KAL. One of the flight crew even gets to wear his black space baseball cap backwards & glower with his goatee like that clown from Metallica. Is this supposed to be a joke? No. It is an epic statement about humanity, from humanity and for humanity that deserves to be seen by anybody who has the capability to not take any of it too seriously. Look for it on a 2 disc box set called GALAXY OF TERROR in your favorite discount retailer's cutout DVD bins, which is probably where it belongs, but how many of us can say \"Yeah, they have a couple box sets of our movies for sale at Best Buy.\" <br /><br />4/10: Anyone lacking in a sense of humor might want to try SILENT RUNNING or maybe TRON. But someday an alien civilization on the other side of the galaxy will intercept a transmission of this movie and decide that we actually are not to be messed with. Good work, guys!!\n",
      "-1.9518755195269524\n"
     ]
    }
   ],
   "source": [
    "max_fp = fp_c.index(max(fp_c))\n",
    "print(test_texts[fp_i[max_fp]])\n",
    "print(fp_c[max_fp])\n",
    "\n",
    "print()\n",
    "\n",
    "# for false negatives the confidence is negative\n",
    "max_fn = fn_c.index(min(fn_c))\n",
    "print(test_texts[fp_i[max_fn]])\n",
    "print(fn_c[max_fn])"
   ]
  },
  {
   "cell_type": "markdown",
   "metadata": {
    "slideshow": {
     "slide_type": "subslide"
    }
   },
   "source": [
    "Let's now consider the stemmed and lemmatized versions of our input features."
   ]
  },
  {
   "cell_type": "code",
   "execution_count": 52,
   "metadata": {
    "slideshow": {
     "slide_type": "fragment"
    }
   },
   "outputs": [],
   "source": [
    "svc_classifier_st = LinearSVC()\n",
    "\n",
    "svc_classifier_st.fit(st_X_train, Y_train)\n",
    "\n",
    "Y_pred_train_svc_st = svc_classifier_st.predict(st_X_train)\n",
    "Y_pred_test_svc_st = svc_classifier_st.predict(st_X_test)"
   ]
  },
  {
   "cell_type": "code",
   "execution_count": 53,
   "metadata": {
    "slideshow": {
     "slide_type": "subslide"
    }
   },
   "outputs": [
    {
     "name": "stdout",
     "output_type": "stream",
     "text": [
      "              precision    recall  f1-score   support\n",
      "\n",
      "         neg       0.99      0.99      0.99     12500\n",
      "         pos       0.99      0.99      0.99     12500\n",
      "\n",
      "    accuracy                           0.99     25000\n",
      "   macro avg       0.99      0.99      0.99     25000\n",
      "weighted avg       0.99      0.99      0.99     25000\n",
      "\n",
      "              precision    recall  f1-score   support\n",
      "\n",
      "         neg       0.87      0.88      0.87     12500\n",
      "         pos       0.88      0.86      0.87     12500\n",
      "\n",
      "    accuracy                           0.87     25000\n",
      "   macro avg       0.87      0.87      0.87     25000\n",
      "weighted avg       0.87      0.87      0.87     25000\n",
      "\n"
     ]
    }
   ],
   "source": [
    "evaluate_classification(y_true=Y_train, y_pred=Y_pred_train_svc_st)\n",
    "evaluate_classification(y_true=Y_test, y_pred=Y_pred_test_svc_st)"
   ]
  },
  {
   "cell_type": "code",
   "execution_count": 54,
   "metadata": {
    "slideshow": {
     "slide_type": "subslide"
    }
   },
   "outputs": [],
   "source": [
    "svc_classifier_lem = LinearSVC()\n",
    "\n",
    "svc_classifier_lem.fit(lem_X_train, Y_train)\n",
    "\n",
    "Y_pred_train_svc_lem = svc_classifier_lem.predict(lem_X_train)\n",
    "Y_pred_test_svc_lem = svc_classifier_lem.predict(lem_X_test)"
   ]
  },
  {
   "cell_type": "code",
   "execution_count": 55,
   "metadata": {
    "slideshow": {
     "slide_type": "subslide"
    }
   },
   "outputs": [
    {
     "name": "stdout",
     "output_type": "stream",
     "text": [
      "              precision    recall  f1-score   support\n",
      "\n",
      "         neg       0.99      0.99      0.99     12500\n",
      "         pos       0.99      0.99      0.99     12500\n",
      "\n",
      "    accuracy                           0.99     25000\n",
      "   macro avg       0.99      0.99      0.99     25000\n",
      "weighted avg       0.99      0.99      0.99     25000\n",
      "\n",
      "              precision    recall  f1-score   support\n",
      "\n",
      "         neg       0.86      0.88      0.87     12500\n",
      "         pos       0.88      0.86      0.87     12500\n",
      "\n",
      "    accuracy                           0.87     25000\n",
      "   macro avg       0.87      0.87      0.87     25000\n",
      "weighted avg       0.87      0.87      0.87     25000\n",
      "\n"
     ]
    }
   ],
   "source": [
    "evaluate_classification(y_true=Y_train, y_pred=Y_pred_train_svc_lem)\n",
    "evaluate_classification(y_true=Y_test, y_pred=Y_pred_test_svc_lem)"
   ]
  },
  {
   "cell_type": "markdown",
   "metadata": {
    "slideshow": {
     "slide_type": "subslide"
    }
   },
   "source": [
    "### 3.4.1 Comparisons\n",
    "\n",
    "Let's organize our results in a Table to better compare models."
   ]
  },
  {
   "cell_type": "markdown",
   "metadata": {
    "slideshow": {
     "slide_type": "fragment"
    }
   },
   "source": [
    "| Model       | F1-macro |\n",
    "| ---         | ---      |\n",
    "| Random      | .50      |\n",
    "| Majority    | .33      |\n",
    "| NB          |  .83     |\n",
    "| SVM         | **.88**      |\n",
    "| SVM w/ Stem | .87      |\n",
    "| SVM w/ Lem  | .87      |"
   ]
  },
  {
   "cell_type": "markdown",
   "metadata": {
    "slideshow": {
     "slide_type": "fragment"
    }
   },
   "source": [
    "#### Homework\n",
    "\n",
    "Try out the NB classifier with Stemmed and Lemmatized input features, respectively.\n",
    "\n",
    "What do you observe?"
   ]
  },
  {
   "cell_type": "markdown",
   "metadata": {
    "id": "UbzMCMfprp3m",
    "slideshow": {
     "slide_type": "slide"
    }
   },
   "source": [
    "# The End!"
   ]
  }
 ],
 "metadata": {
  "celltoolbar": "Slideshow",
  "colab": {
   "collapsed_sections": [],
   "provenance": []
  },
  "kernelspec": {
   "display_name": "Python 3 (ipykernel)",
   "language": "python",
   "name": "python3"
  },
  "language_info": {
   "codemirror_mode": {
    "name": "ipython",
    "version": 3
   },
   "file_extension": ".py",
   "mimetype": "text/x-python",
   "name": "python",
   "nbconvert_exporter": "python",
   "pygments_lexer": "ipython3",
   "version": "3.10.15"
  }
 },
 "nbformat": 4,
 "nbformat_minor": 4
}
